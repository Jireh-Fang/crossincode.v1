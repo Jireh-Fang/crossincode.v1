{
 "cells": [
  {
   "cell_type": "code",
   "execution_count": 1,
   "metadata": {},
   "outputs": [
    {
     "name": "stdout",
     "output_type": "stream",
     "text": [
      "[['整租·宛平南路268弄 1室0厅 南', '/zufang/SH2326835280406904832.html', '徐汇-徐家汇-宛平南路268弄/23㎡/南/1室0厅1卫/中楼层                        （7层）', '4000 元/月', '近地铁/精装/新上/随时看房/'], ['整租·王满小区 1室1厅 南', '/zufang/SH2336889962785677312.html', '长宁-西郊-王满小区/37㎡/南/1室1厅1卫/中楼层                        （5层）', '4400 元/月', '近地铁/新上/随时看房/'], ['整租·长桥三村 2室1厅 南', '/zufang/SH2307750683245551616.html', '徐汇-长桥-长桥三村/58㎡/南/2室1厅1卫/中楼层                        （6层）', '4300 元/月', '随时看房/'], ['整租·华建一街坊 2室1厅 南', '/zufang/SH2306213071539929088.html', '徐汇-华泾-华建一街坊/56㎡/南/2室1厅1卫/高楼层                        （6层）', '3890 元/月', '随时看房/'], ['整租·东湾小区 1室1厅 南', '/zufang/SH2335453251145056256.html', '徐汇-华泾-东湾小区/41㎡/南/1室1厅1卫/中楼层                        （6层）', '3400 元/月', '随时看房/'], ['整租·长桥一村 1室0厅 东南', '/zufang/SH2314210525871357952.html', '徐汇-长桥-长桥一村/42㎡/东南/1室0厅1卫/高楼层                        （6层）', '3890 元/月', '精装/随时看房/'], ['整租·中山南一路1040-1044号 1室0厅 南', '/zufang/SH2331849459061243904.html', '黄浦-世博滨江-中山南一路1040-1044号/30㎡/南/1室0厅1卫/高楼层                        （6层）', '4900 元/月', '近地铁/精装/随时看房/'], ['整租·上中路458弄 1室1厅 南', '/zufang/SH2326134040845369344.html', '徐汇-植物园-上中路458弄/38㎡/南/1室1厅1卫/高楼层                        （6层）', '3450 元/月', '随时看房/'], ['整租·田林十二村 1室1厅 南', '/zufang/SH2298569163675287552.html', '徐汇-田林-田林十二村/30㎡/南/1室1厅1卫/中楼层                        （6层）', '3900 元/月', '近地铁/随时看房/'], ['整租·长桥一村 1室0厅 南', '/zufang/SH2329487103995412480.html', '徐汇-长桥-长桥一村/29㎡/南/1室0厅1卫/中楼层                        （5层）', '3600 元/月', '精装/随时看房/'], ['整租·梅陇九村 1室1厅 南', '/zufang/SH2325828415392841728.html', '徐汇-华东理工-梅陇九村/45㎡/南/1室1厅1卫/高楼层                        （6层）', '3500 元/月', '随时看房/'], ['整租·金虹苑小区 1室1厅 南', '/zufang/SH2336682152211005440.html', '长宁-西郊-金虹苑小区/40㎡/南/1室1厅1卫/高楼层                        （6层）', '4888 元/月', '精装/新上/随时看房/'], ['整租·馨兰小区 1室1厅 南', '/zufang/SH2339139797618270208.html', '长宁-西郊-馨兰小区/42㎡/南/1室1厅1卫/高楼层                        （6层）', '5000 元/月', '新上/随时看房/'], ['整租·日晖六村 1室0厅 南', '/zufang/SH2339019461828280320.html', '徐汇-斜土路-日晖六村/34㎡/南/1室0厅1卫/高楼层                        （5层）', '4890 元/月', '近地铁/精装/新上/随时看房/'], ['整租·康健路25弄 1室1厅 南', '/zufang/SH2336096119442120704.html', '徐汇-康健-康健路25弄/39㎡/南/1室1厅1卫/高楼层                        （5层）', '6200 元/月', '近地铁/精装/新上/随时看房/'], ['整租·园南三村 2室1厅 南', '/zufang/SH2337680424354463744.html', '徐汇-植物园-园南三村/61㎡/南/2室1厅1卫/中楼层                        （6层）', '4800 元/月', '新上/随时看房/'], ['整租·城东新村（三区） 2室1厅 南', '/zufang/SH2334521835326554112.html', '青浦-夏阳-城东新村（三区）/49㎡/南/2室1厅1卫/高楼层                        （6层）', '2400 元/月', '随时看房/'], ['整租·南丹小区 1室1厅 东南/南', '/zufang/SH2298455869585113088.html', '徐汇-徐家汇-南丹小区/37㎡/东南 南/1室1厅1卫/低楼层                        （7层）', '4850 元/月', '近地铁/随时看房/'], ['整租·盈中新村 3室1厅 南', '/zufang/SH2334804078279786496.html', '青浦-盈浦-盈中新村/61㎡/南/3室1厅1卫/高楼层                        （6层）', '2200 元/月', '随时看房/'], ['整租·淡水路442弄 2室1厅 南', '/zufang/SH2310669801573318656.html', '黄浦-新天地-淡水路442弄/46㎡/南/2室1厅1卫/中楼层                        （6层）', '7500 元/月', '近地铁/随时看房/'], ['整租·绿地时代名邸 2室2厅 南', '/zufang/SH2330987068676636672.html', '青浦-白鹤-绿地时代名邸/84㎡/南/2室2厅1卫/低楼层                        （28层）', '2800 元/月', '近地铁/精装/随时看房/'], ['整租·丰裕里 2室1厅 南', '/zufang/SH2309431012997996544.html', '黄浦-新天地-丰裕里/60㎡/南/2室1厅1卫/中楼层                        （3层）', '9000 元/月', '近地铁/精装/随时看房/'], ['整租·马当小区 2室1厅 南', '/zufang/SH2334664704963911680.html', '黄浦-新天地-马当小区/84㎡/南/2室1厅1卫/中楼层                        （27层）', '11200 元/月', '近地铁/精装/随时看房/'], ['整租·汇成五村 2室1厅 南/北', '/zufang/SH2308484721056677888.html', '徐汇-上海南站-汇成五村/59㎡/南 北/2室1厅1卫/高楼层                        （6层）', '4600 元/月', '随时看房/'], ['整租·西部花苑 2室2厅 南', '/zufang/SH2329740728684781568.html', '青浦-盈浦-西部花苑/76㎡/南/2室2厅1卫/中楼层                        （6层）', '2700 元/月', '随时看房/'], ['整租·楼园小区 2室1厅 南', '/zufang/SH2331649267992895488.html', '徐汇-上海南站-楼园小区/61㎡/南/2室1厅1卫/中楼层                        （6层）', '5100 元/月', '随时看房/'], ['整租·乐山四五村 1室1厅 南', '/zufang/SH2336231094821076992.html', '徐汇-徐家汇-乐山四五村/35㎡/南/1室1厅1卫/低楼层                        （6层）', '5300 元/月', '近地铁/精装/新上/随时看房/'], ['整租·康健路77弄 2室1厅 南', '/zufang/SH2320820357159985152.html', '徐汇-康健-康健路77弄/51㎡/南/2室1厅1卫/高楼层                        （6层）', '5400 元/月', '近地铁/随时看房/'], ['整租·马当小区 2室1厅 南', '/zufang/SH2303498281835036672.html', '黄浦-新天地-马当小区/62㎡/南/2室1厅1卫/中楼层                        （27层）', '9300 元/月', '近地铁/精装/随时看房/'], ['整租·钦州花苑 1室1厅 南', '/zufang/SH2298568405286404096.html', '徐汇-田林-钦州花苑/55㎡/南/1室1厅1卫/低楼层                        （30层）', '5200 元/月', '近地铁/新上/随时看房/']]\n"
     ]
    }
   ],
   "source": [
    "from bs4 import BeautifulSoup\n",
    "import requests\n",
    "import csv\n",
    "\n",
    "url = 'https://sh.lianjia.com/zufang/pg1/#contentList'\n",
    "headers = {'User-Agent':'Mozilla/5.0 (Windows NT 6.1; Win64; x64) AppleWebKit/537.36 (KHTML, like Gecko) Chrome/76.0.3809.132 Safari/537.36',\n",
    "          'Cookie':'lianjia_uuid=ad0f4a89-aac8-4d37-b3cb-499b9c1310f5; lianjia_ssid=abdb4ceb-fa9c-4e02-8816-8a00dbc7ca08; srcid=eyJ0Ijoie1wiZGF0YVwiOlwiZjI0NmQyYTIxMGNkMDEzYTBkNzIzNTJhMDU3ZmVmZDZmYjQ2MTMxMDNiNzNlNDVkZDQ2ZDgzMzdmMTRkNzQ3OTViYzlhMzZkZGZmYzMyMWI4MWRjZTgzNDI1ZGRkZDQwYTU4NTE1MmJiNGU4MmU5ZTEyMWNjNDZlMjNlNTdiNzU0OWM3NDkxOWZkY2ExOTFjMmFmYWY3ZjE3ZDcwZjZmYTIyMThkZjM2ODkzYmRjMTQ1ODYwNzg1MGExYzRlZThjNTY4MzAxYzRkZmZhNDI2ZDk0MjBlOGE2ODc2NjhiMjExOGQyZDdjZjQzMTZhZTdhZGVjYzQzYmI3OTc3NDFjZGQ3YzRiNmE1NTRhZDNmYzY0NGVjOGQyMjkyM2M3MDA2NjU1ZjczZTU1MGJkYjRmMTQ1MmYxYzU5ODkzNDUyNDk2MzhiZDY4NmFlMWIzNjZkZGRiNzgzMTQxNmFkZjU2YVwiLFwia2V5X2lkXCI6XCIxXCIsXCJzaWduXCI6XCIxNTFkZWQyNVwifSIsInIiOiJodHRwczovL3NoLmxpYW5qaWEuY29tL3p1ZmFuZy9wZzEvI2NvbnRlbnRMaXN0Iiwib3MiOiJ3ZWIiLCJ2IjoiMC4xIn0='}\n",
    "html = requests.get(url,headers = headers).text\n",
    "soup = BeautifulSoup(html,'lxml')\n",
    "infos_all = soup.find_all('div',attrs={\"class\":\"content__list--item--main\"})\n",
    "GetRentInfo = []\n",
    "for info in infos_all:\n",
    "    infos_2 = info.find('p')    #返回p标签下的Tag对象\n",
    "    infos_3 = infos_2.get_text(strip=True)   #提取p标签下的所有文字 ，租房、地址、房型、方位\n",
    "    zufang = info.a['href']       #提取租房html\n",
    "    infos_4 = info.find('p',class_=\"content__list--item--des\")\n",
    "    type = infos_4.get_text(strip=True)\n",
    "    infos_5 = info.find('span',class_=\"content__list--item-price\")   #返回span标签下的Tag对象\n",
    "    price = infos_5.get_text()                        #提取房租价格\n",
    "    info_6 = info.find('p',class_='content__list--item--bottom oneline').get_text()\n",
    "    time = ''\n",
    "    for i in info_6.split():\n",
    "        time = time+i+'/'            \n",
    "    temp = [infos_3,zufang,type,price,time]\n",
    "    GetRentInfo.append(temp)\n",
    "# print(GetRentInfo)\n",
    "with open(r'E:\\python\\Crossincode.v1\\GetRentInfo.csv','w') as f:\n",
    "    writer = csv.writer(f)\n",
    "    for row in GetRentInfo:\n",
    "#         for j in row:\n",
    "        writer.writerow(row)\n",
    "# print('数据已保存至GetRentInfo.csv文件')"
   ]
  },
  {
   "cell_type": "code",
   "execution_count": null,
   "metadata": {},
   "outputs": [],
   "source": []
  }
 ],
 "metadata": {
  "kernelspec": {
   "display_name": "Python 3",
   "language": "python",
   "name": "python3"
  },
  "language_info": {
   "codemirror_mode": {
    "name": "ipython",
    "version": 3
   },
   "file_extension": ".py",
   "mimetype": "text/x-python",
   "name": "python",
   "nbconvert_exporter": "python",
   "pygments_lexer": "ipython3",
   "version": "3.7.2"
  }
 },
 "nbformat": 4,
 "nbformat_minor": 2
}
