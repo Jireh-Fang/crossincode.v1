{
 "cells": [
  {
   "cell_type": "code",
   "execution_count": 1,
   "metadata": {},
   "outputs": [
    {
     "name": "stdout",
     "output_type": "stream",
     "text": [
      "请输入您要查询的城市，回车退出:北京\n",
      "24日星期六\n",
      "高温 31℃\n",
      "低温 18℃\n",
      "晴\n",
      "请输入您要查询的城市，回车退出:南京\n",
      "24日星期六\n",
      "高温 34℃\n",
      "低温 26℃\n",
      "多云\n",
      "请输入您要查询的城市，回车退出:\n"
     ]
    }
   ],
   "source": [
    "import requests\n",
    "while True:\n",
    "    city = input('请输入您要查询的城市，回车退出:')\n",
    "    if not city:\n",
    "        break\n",
    "    else:\n",
    "        url = 'http://wthrcdn.etouch.cn/weather_mini?city=%s'%city\n",
    "        req = requests.get(url)\n",
    "        dict_city = req.json()\n",
    "        data = dict_city.get('data')\n",
    "        if data:\n",
    "            city_forecast = data['forecast'][0]\n",
    "            print(city_forecast.get('date'))\n",
    "            print(city_forecast.get('high'))\n",
    "            print(city_forecast.get('low'))\n",
    "            print(city_forecast.get('type'))\n",
    "        else:\n",
    "            print('未查询到')"
   ]
  },
  {
   "cell_type": "code",
   "execution_count": null,
   "metadata": {},
   "outputs": [],
   "source": []
  }
 ],
 "metadata": {
  "kernelspec": {
   "display_name": "Python 3",
   "language": "python",
   "name": "python3"
  },
  "language_info": {
   "codemirror_mode": {
    "name": "ipython",
    "version": 3
   },
   "file_extension": ".py",
   "mimetype": "text/x-python",
   "name": "python",
   "nbconvert_exporter": "python",
   "pygments_lexer": "ipython3",
   "version": "3.7.2"
  }
 },
 "nbformat": 4,
 "nbformat_minor": 2
}
