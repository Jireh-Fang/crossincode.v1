{
 "cells": [
  {
   "cell_type": "code",
   "execution_count": 27,
   "metadata": {},
   "outputs": [],
   "source": [
    "import requests\n",
    "url = 'https://api.douban.com/v2/movie/1292052?apikey=0df993c66c0c636e29ecbb5344252a4a'\n",
    "req = requests.get(url)\n",
    "movie_data = req.json()\n",
    "image_data = movie_data.get('image')\n",
    "image_req = requests.get(image_data).content\n",
    "#保存图片路径\n",
    "dir = r'E:\\python\\Crossincode.v1\\picture\\haibao.jpg'\n",
    "with open (dir,'wb') as f:\n",
    "    f.write(image_req)"
   ]
  },
  {
   "cell_type": "code",
   "execution_count": 98,
   "metadata": {},
   "outputs": [],
   "source": [
    "import requests\n",
    "import csv\n",
    "rows = []\n",
    "url = 'https://api.douban.com/v2/movie/top250?start=0&apikey=0df993c66c0c636e29ecbb5344252a4a'\n",
    "req = requests.get(url)\n",
    "movie_data = req.json()\n",
    "movie_subjects = movie_data.get('subjects')\n",
    "for i in range(len(movie_data.get('subjects'))):\n",
    "    each_title = movie_subjects[i].get('title')\n",
    "    each_average = movie_subjects[i].get('rating').get('average')\n",
    "#     print(each_title,each_average,end=' ')\n",
    "    casts_value = movie_subjects[i].get('casts')\n",
    "    stars_name = []\n",
    "    for j in range(len(casts_value)):\n",
    "        each_actor = casts_value[j].get('name')\n",
    "        stars_name.append(each_actor)\n",
    "    stars_name = ','.join(stars_name)\n",
    "    row = (each_title,each_average,stars_name)\n",
    "    rows.append(row)\n",
    "headers = ['电影名称','评分','演员']\n",
    "with open (r'E:\\python\\Crossincode.v1\\movie.csv','w',newline='') as f:\n",
    "    f_csv = csv.writer(f)\n",
    "    f_csv.writerow(headers)\n",
    "    f_csv.writerows(rows)"
   ]
  }
 ],
 "metadata": {
  "kernelspec": {
   "display_name": "Python 3",
   "language": "python",
   "name": "python3"
  },
  "language_info": {
   "codemirror_mode": {
    "name": "ipython",
    "version": 3
   },
   "file_extension": ".py",
   "mimetype": "text/x-python",
   "name": "python",
   "nbconvert_exporter": "python",
   "pygments_lexer": "ipython3",
   "version": "3.7.2"
  }
 },
 "nbformat": 4,
 "nbformat_minor": 2
}
