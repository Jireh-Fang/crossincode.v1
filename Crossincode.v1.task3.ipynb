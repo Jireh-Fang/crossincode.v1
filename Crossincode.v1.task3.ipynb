{
 "cells": [
  {
   "cell_type": "code",
   "execution_count": 4,
   "metadata": {},
   "outputs": [],
   "source": [
    "import requests\n",
    "url = 'https://weibo.com/a/hot/realtime'\n",
    "headers = {'Cookie':'UOR=www.techweb.com.cn,widget.weibo.com,www.techweb.com.cn; Ugrow-G0=7e0e6b57abe2c2f76f677abd9a9ed65d; SUB=_2AkMqOF_Qf8NxqwJRmP4QzWvkb4lwzwDEieKcZK4LJRMxHRl-yT83qkFdtRB6AbhxPs181fbt5X2VlIHqO8Qu4_5UNx8m; SUBP=0033WrSXqPxfM72-Ws9jqgMF55529P9D9WWAh-jJL0V9a-OTQLXL0KIr; TC-V5-G0=4c4b51307dd4a2e262171871fe64f295; WBStorage=f54cf4e4362237da|undefined','User-Agent':'Mozilla/5.0 (Windows NT 6.1; Win64; x64) AppleWebKit/537.36 (KHTML, like Gecko) Chrome/76.0.3809.100 Safari/537.36'}\n",
    "req = requests.get(url,headers = headers)\n",
    "with open(r'E:\\python\\Crossincode.v1\\hot_weibo.html','w',encoding='utf-8') as f:\n",
    "    f.write(req.text)"
   ]
  }
 ],
 "metadata": {
  "kernelspec": {
   "display_name": "Python 3",
   "language": "python",
   "name": "python3"
  },
  "language_info": {
   "codemirror_mode": {
    "name": "ipython",
    "version": 3
   },
   "file_extension": ".py",
   "mimetype": "text/x-python",
   "name": "python",
   "nbconvert_exporter": "python",
   "pygments_lexer": "ipython3",
   "version": "3.7.2"
  }
 },
 "nbformat": 4,
 "nbformat_minor": 2
}
